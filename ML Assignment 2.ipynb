{
 "cells": [
  {
   "cell_type": "markdown",
   "metadata": {},
   "source": [
    "# Task 1:"
   ]
  },
  {
   "cell_type": "markdown",
   "metadata": {},
   "source": [
    "Q.1.1 Write a Python Program to implement your own myreduce() function which works exactly like Python's built-in function reduce()"
   ]
  },
  {
   "cell_type": "code",
   "execution_count": 1,
   "metadata": {},
   "outputs": [
    {
     "name": "stdout",
     "output_type": "stream",
     "text": [
      "Sum of list[1,2,3,4,5] using my reduce custom function is:  15\n"
     ]
    }
   ],
   "source": [
    "''' My reduce custom function with the help of Sum function'''\n",
    "def myreduce(sum, sequence):\n",
    "    result = sequence[0]\n",
    "    for item in sequence[1:]:\n",
    "        result = sum(result, item)\n",
    "    return result\n",
    "\n",
    "def sum(x,y):\n",
    "    return x + y\n",
    "\n",
    "print (\"Sum of list[1,2,3,4,5] using my reduce custom function is: \", myreduce(sum, [1,2,3,4,5]))"
   ]
  },
  {
   "cell_type": "markdown",
   "metadata": {},
   "source": [
    "Q.1.2 Write a Python program to implement your own myfilter() function which works exactly like Python's built-in function filter()"
   ]
  },
  {
   "cell_type": "code",
   "execution_count": 2,
   "metadata": {},
   "outputs": [
    {
     "name": "stdout",
     "output_type": "stream",
     "text": [
      "Filter only positive Integers in list [0,1,-2,3,4,5] using my filter custom function is: [0, 1, 3, 4, 5]\n"
     ]
    }
   ],
   "source": [
    "''' My filter custom function with the help of ispositve function to filter +ve values including 0'''\n",
    "def myfilter(any_func, sequence):\n",
    "    result = []\n",
    "    for item in sequence:\n",
    "        if any_func(item):\n",
    "            result.append(item)\n",
    "    return result\n",
    "\n",
    "def ispositive(x):\n",
    "    if (x < 0): \n",
    "        return False \n",
    "    \n",
    "    else: \n",
    "        return True\n",
    "\n",
    "print (\"Filter only positive Integers in list [0,1,-2,3,4,5] using my filter custom function is:\",(myfilter(ispositive, [0,1,-2,3,4,5])))"
   ]
  },
  {
   "cell_type": "markdown",
   "metadata": {},
   "source": [
    "Q.2 Implement List comprehensions to produce the following lists.\n",
    "   Write List comprehensions to produce the following Lists\n",
    "   \n",
    "    ['x', 'xx', 'xxx', 'xxxx', 'y', 'yy', 'yyy', 'yyyy', 'z', 'zz', 'zzz', 'zzzz']\n",
    "\n",
    "    ['x', 'y', 'z', 'xx', 'yy', 'zz', 'xx', 'yy', 'zz', 'xxxx', 'yyyy', 'zzzz']\n",
    "    \n",
    "    [[2], [3], [4], [3], [4], [5], [4], [5], [6]]\n",
    "\n",
    "    [[2, 3, 4, 5], [3, 4, 5, 6], [4, 5, 6, 7], [5, 6, 7, 8]]\n",
    "\n",
    "    [(1, 1), (2, 1), (3, 1), (1, 2), (2, 2), (3, 2), (1, 3), (2, 3), (3, 3)]"
   ]
  },
  {
   "cell_type": "code",
   "execution_count": 3,
   "metadata": {},
   "outputs": [
    {
     "name": "stdout",
     "output_type": "stream",
     "text": [
      "['x','y','z'] =>  ['x', 'xx', 'xxx', 'xxxx', 'y', 'yy', 'yyy', 'yyyy', 'z', 'zz', 'zzz', 'zzzz'] ----------------------------------------------------------------------------------------------------\n",
      "['x','y','z'] =>  ['x', 'y', 'z', 'xx', 'yy', 'zz', 'xx', 'yy', 'zz', 'xxxx', 'yyyy', 'zzzz'] ----------------------------------------------------------------------------------------------------\n",
      "[2,3,4] => [[2], [3], [4], [3], [4], [5], [4], [5], [6]] ----------------------------------------------------------------------------------------------------\n",
      "[2,3,4,5] => [[2, 3, 4, 5], [3, 4, 5, 6], [4, 5, 6, 7], [5, 6, 7, 8]] ----------------------------------------------------------------------------------------------------\n",
      "[1,2,3] => [(1, 1), (2, 1), (3, 1), (1, 2), (2, 2), (3, 2), (1, 3), (2, 3), (3, 3)]\n"
     ]
    }
   ],
   "source": [
    "input_list = ['x','y','z']\n",
    "result = [item*num for item in input_list for num in range(1,5)]\n",
    "print(\"['x','y','z'] => \", result, '-'*100)\n",
    "\n",
    "input_list = ['x','y','z']\n",
    "result1 = [item*num for num in range(1,3) for item in input_list]\n",
    "result2 = [item*num for num in range(2,5,2) for item in input_list]\n",
    "result = result1 + result2\n",
    "print(\"['x','y','z'] => \", result, '-'*100)\n",
    "\n",
    "input_list = [2,3,4]\n",
    "result = [[item+num] for item in input_list for num in range(0,3)]\n",
    "print(\"[2,3,4] =>\", result, '-'*100)\n",
    "\n",
    "input_list = [2,3,4,5]\n",
    "result = [ [item+num for item in input_list] for num in range(0,4)  ]\n",
    "print(\"[2,3,4,5] =>\", result, '-'*100)\n",
    "\n",
    "input_list=[1,2,3]\n",
    "result = [(y,x) for x in input_list for y in input_list]\n",
    "print(\"[1,2,3] =>\", result)"
   ]
  },
  {
   "cell_type": "markdown",
   "metadata": {},
   "source": [
    "Q.3 Implement a function longestWord() that takes a list of words and returns the longest one."
   ]
  },
  {
   "cell_type": "code",
   "execution_count": 5,
   "metadata": {},
   "outputs": [
    {
     "name": "stdout",
     "output_type": "stream",
     "text": [
      "Interesting\n"
     ]
    }
   ],
   "source": [
    "def longestWord(words_list):\n",
    "    word_length = []\n",
    "    for n in words_list:\n",
    "        word_length.append((len(n), n))\n",
    "    word_length.sort()\n",
    "    return word_length[-1][1]\n",
    "\n",
    "print(longestWord([\"Machine\", \"Learning\", \"Exercises\", \"Much\", \"Interesting\"]))"
   ]
  },
  {
   "cell_type": "markdown",
   "metadata": {},
   "source": [
    "# Task 2:"
   ]
  },
  {
   "cell_type": "raw",
   "metadata": {},
   "source": [
    "Q.1.1 Write a Python Program(with class concepts) to find the area of the triangle using the below formula.\n",
    "\n",
    "area = (s*(s-a)*(s-b)*(s-c)) ** 0.5\n",
    "\n",
    "Function to take the length of the sides of triangle from user should be defined in the parent\n",
    "class and function to calculate the area should be defined in subclass."
   ]
  },
  {
   "cell_type": "code",
   "execution_count": 6,
   "metadata": {},
   "outputs": [
    {
     "name": "stdout",
     "output_type": "stream",
     "text": [
      "Enter the value of first side of the triangle a = 20\n",
      "Enter the value of second side of the triangle b = 20\n",
      "Enter the value of third side of the triangle c = 10\n",
      "area : 96.82458365518542\n"
     ]
    }
   ],
   "source": [
    "class Triangle:\n",
    " \n",
    "    def __init__(self,a,b,c):\n",
    "        self.a = float(a)\n",
    "        self.b = float(b)\n",
    "        self.c = float(c)\n",
    " \n",
    "    def area(self):\n",
    "        s=(self.a + self.b + self.c)/2\n",
    "        return((s*(s-self.a)*(s-self.b)*(s-self.c))**0.5)\n",
    " \n",
    "a=input(\"Enter the value of first side of the triangle a = \")\n",
    "b=input(\"Enter the value of second side of the triangle b = \")\n",
    "c=input(\"Enter the value of third side of the triangle c = \")\n",
    "t = Triangle(a, b, c)\n",
    "print(\"area : {}\".format(t.area()))"
   ]
  },
  {
   "cell_type": "markdown",
   "metadata": {},
   "source": [
    "Q.1.2 Write a function filter_long_words() that takes a list of words and an integer n and returns the list of words that are longer than n.\n"
   ]
  },
  {
   "cell_type": "code",
   "execution_count": 7,
   "metadata": {},
   "outputs": [
    {
     "name": "stdout",
     "output_type": "stream",
     "text": [
      "['Python', 'classes', 'beautiful.', 'Trying', 'solve', 'exercises']\n"
     ]
    }
   ],
   "source": [
    "def filter_long_words(list_words, n):\n",
    "    words = list_words.split(\" \")\n",
    "    list_word_len_grt_n = []\n",
    "    \n",
    "    for x in words:\n",
    "        if len(x) > n:\n",
    "            list_word_len_grt_n.append(x)\n",
    "    return list_word_len_grt_n\n",
    "print(filter_long_words(\"The Python classes are beautiful. Trying to solve exercises as much as I can\", 4))"
   ]
  },
  {
   "cell_type": "markdown",
   "metadata": {},
   "source": [
    "Q.2.1 Write a Python program using function concept that maps list of words into a list of integers representing the lengths of the corresponding words.\n",
    "\n",
    "Hint: If a list [ ab,cde,erty] is passed on to the python function output should come as [2,3,4]\n",
    "Here 2,3 and 4 are the lengths of the words in the list."
   ]
  },
  {
   "cell_type": "code",
   "execution_count": 8,
   "metadata": {},
   "outputs": [
    {
     "name": "stdout",
     "output_type": "stream",
     "text": [
      "Length of the words in the list are:  [2, 3, 4]\n"
     ]
    }
   ],
   "source": [
    "def words_length(words_list):\n",
    " return list(map(lambda x: len(x), words_list))\n",
    "\n",
    "words_list = [\"ab\", \"cde\", \"erty\"]\n",
    "print(\"Length of the words in the list are: \", words_length(words_list))"
   ]
  },
  {
   "cell_type": "markdown",
   "metadata": {},
   "source": [
    "Q.2.2 Write a Python function which takes a character (i.e. a string of length 1) and returns True if it is a vowel, False otherwise."
   ]
  },
  {
   "cell_type": "code",
   "execution_count": 9,
   "metadata": {},
   "outputs": [
    {
     "name": "stdout",
     "output_type": "stream",
     "text": [
      "True\n",
      "True\n",
      "False\n",
      "False\n"
     ]
    }
   ],
   "source": [
    "def is_vowel(char):\n",
    "    all_vowels = 'aeiouAEIOU'\n",
    "    return char in all_vowels\n",
    "\n",
    "print(is_vowel('a'))\n",
    "print(is_vowel('A'))\n",
    "print(is_vowel('t'))\n",
    "print(is_vowel('T'))"
   ]
  },
  {
   "cell_type": "code",
   "execution_count": null,
   "metadata": {},
   "outputs": [],
   "source": []
  }
 ],
 "metadata": {
  "kernelspec": {
   "display_name": "Python 3",
   "language": "python",
   "name": "python3"
  },
  "language_info": {
   "codemirror_mode": {
    "name": "ipython",
    "version": 3
   },
   "file_extension": ".py",
   "mimetype": "text/x-python",
   "name": "python",
   "nbconvert_exporter": "python",
   "pygments_lexer": "ipython3",
   "version": "3.7.4"
  }
 },
 "nbformat": 4,
 "nbformat_minor": 2
}
